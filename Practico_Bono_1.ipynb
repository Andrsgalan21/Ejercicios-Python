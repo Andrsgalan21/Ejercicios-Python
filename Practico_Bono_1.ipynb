{
 "cells": [
  {
   "cell_type": "markdown",
   "metadata": {
    "id": "dkfTfb7kKfO8"
   },
   "source": [
    "## CALENTAMIENTO:\n",
    "\n",
    "</p>*Nombre: Andres Felipe Galan Cardenas</p>\n",
    "</p>*Materia: Procesamiento de datos a gran escala</p>\n",
    "</p>*Profesor: John Corredor</p>"
   ]
  },
  {
   "cell_type": "markdown",
   "metadata": {
    "id": "jKNiFouRKfO8"
   },
   "source": [
    "#### MENOR DE DOS PARES: Escriba una función que devuelva el menor de dos números dados *si* ambos números son pares, pero devuelva el mayor si uno o ambos números son impares\n",
    "    lesser_of_two_evens(2,4) --> 2\n",
    "    lesser_of_two_evens(2,5) --> 5"
   ]
  },
  {
   "cell_type": "code",
   "execution_count": 1,
   "metadata": {
    "ExecuteTime": {
     "end_time": "2025-02-03T22:09:52.637544Z",
     "start_time": "2025-02-03T22:09:52.624119Z"
    },
    "id": "HF8_a_2IKfO8"
   },
   "outputs": [],
   "source": [
    "def lesser_of_two_evens(a,b):\n",
    "    if a % 2 == 0 and b % 2 == 0:\n",
    "        if a > b:\n",
    "            return b\n",
    "        else:\n",
    "            return a\n",
    "    else :\n",
    "        if a > b:\n",
    "            return a\n",
    "        else :\n",
    "            return b"
   ]
  },
  {
   "cell_type": "code",
   "execution_count": 2,
   "metadata": {
    "ExecuteTime": {
     "end_time": "2025-02-03T22:09:53.032080Z",
     "start_time": "2025-02-03T22:09:53.020907Z"
    },
    "id": "fOv0K9mXKfO9",
    "outputId": "b22f779c-6706-4ede-95cc-c140ad565be1"
   },
   "outputs": [
    {
     "data": {
      "text/plain": [
       "2"
      ]
     },
     "execution_count": 2,
     "metadata": {},
     "output_type": "execute_result"
    }
   ],
   "source": [
    "# Revisión\n",
    "lesser_of_two_evens(2,4)"
   ]
  },
  {
   "cell_type": "code",
   "execution_count": 3,
   "metadata": {
    "ExecuteTime": {
     "end_time": "2025-02-03T22:09:55.300260Z",
     "start_time": "2025-02-03T22:09:55.282876Z"
    },
    "id": "UMKYl4NgKfO-",
    "outputId": "9c980845-33dc-4af5-e00f-941bc34c9158"
   },
   "outputs": [
    {
     "data": {
      "text/plain": [
       "5"
      ]
     },
     "execution_count": 3,
     "metadata": {},
     "output_type": "execute_result"
    }
   ],
   "source": [
    "# Revisión\n",
    "lesser_of_two_evens(2,5)"
   ]
  },
  {
   "cell_type": "markdown",
   "metadata": {
    "id": "ZdEE37WBKfO-"
   },
   "source": [
    "#### GALLETAS DE ANIMALES: Escribir una función que toma una cadena de dos palabras y devuelve True si ambas palabras comienzan con la misma letra\n",
    "    animal_crackers('Ciudad Calor') --> True\n",
    "    animal_crackers('Lugar Frio') --> False"
   ]
  },
  {
   "cell_type": "code",
   "execution_count": 11,
   "metadata": {
    "ExecuteTime": {
     "end_time": "2025-02-03T22:23:56.022203Z",
     "start_time": "2025-02-03T22:23:56.013451Z"
    },
    "id": "6JEJK4lcKfO_"
   },
   "outputs": [],
   "source": [
    "def animal_crackers(text):\n",
    "    textoSeparado = text.split()\n",
    "    if textoSeparado[0][0] == textoSeparado[1][0]:\n",
    "        return True\n",
    "    else :\n",
    "        return False\n"
   ]
  },
  {
   "cell_type": "code",
   "execution_count": 14,
   "metadata": {
    "ExecuteTime": {
     "end_time": "2025-02-03T22:25:42.804703Z",
     "start_time": "2025-02-03T22:25:42.792455Z"
    },
    "id": "RZp5N4-6KfO_",
    "outputId": "6d328ca9-266d-48c7-f676-b754ef7ed006"
   },
   "outputs": [
    {
     "name": "stdout",
     "output_type": "stream",
     "text": [
      "['Ciudad', 'Calor']\n"
     ]
    },
    {
     "data": {
      "text/plain": [
       "True"
      ]
     },
     "execution_count": 14,
     "metadata": {},
     "output_type": "execute_result"
    }
   ],
   "source": [
    "# Revisión\n",
    "animal_crackers('Ciudad Calor')"
   ]
  },
  {
   "cell_type": "code",
   "execution_count": null,
   "metadata": {
    "id": "zaGYt5L8KfO_",
    "outputId": "4b223142-b306-4b30-ac82-0231c9bba8ae"
   },
   "outputs": [
    {
     "data": {
      "text/plain": [
       "False"
      ]
     },
     "execution_count": 14,
     "metadata": {},
     "output_type": "execute_result"
    }
   ],
   "source": [
    "# Revisión\n",
    "animal_crackers('Lugar Frio')"
   ]
  },
  {
   "cell_type": "markdown",
   "metadata": {
    "id": "Xln0rzZ3KfPA"
   },
   "source": [
    "#### HACE VEINTE: dados dos enteros, devuelve True si la suma de los enteros es 20 o si uno de los enteros es 20. De lo contrario, devuelve False\n",
    "\n",
    "    makes_twenty(20,10) --> True\n",
    "    makes_twenty(12,8) --> True\n",
    "    makes_twenty(2,3) --> False"
   ]
  },
  {
   "cell_type": "code",
   "execution_count": 15,
   "metadata": {
    "ExecuteTime": {
     "end_time": "2025-02-03T22:27:21.989271Z",
     "start_time": "2025-02-03T22:27:21.976828Z"
    },
    "id": "wBbR7Xx_KfPA"
   },
   "outputs": [],
   "source": [
    "def makes_twenty(n1,n2):\n",
    "  if n1 == 20 or n2 == 20:\n",
    "      return True\n",
    "  else :\n",
    "      if n1 + n2 == 20:\n",
    "          return True\n",
    "      else :\n",
    "          return False"
   ]
  },
  {
   "cell_type": "code",
   "execution_count": 16,
   "metadata": {
    "ExecuteTime": {
     "end_time": "2025-02-03T22:27:25.050323Z",
     "start_time": "2025-02-03T22:27:25.033939Z"
    },
    "id": "6jHiJxnwKfPA",
    "outputId": "9a14cffb-0f72-48c1-8619-7cfe26264915"
   },
   "outputs": [
    {
     "data": {
      "text/plain": [
       "True"
      ]
     },
     "execution_count": 16,
     "metadata": {},
     "output_type": "execute_result"
    }
   ],
   "source": [
    "# Revisión\n",
    "makes_twenty(20,10)"
   ]
  },
  {
   "cell_type": "code",
   "execution_count": 17,
   "metadata": {
    "ExecuteTime": {
     "end_time": "2025-02-03T22:27:26.767248Z",
     "start_time": "2025-02-03T22:27:26.762883Z"
    },
    "id": "zZIdlGLeKfPA",
    "outputId": "9272422f-c012-4f4e-d8e6-a64deeaafffe"
   },
   "outputs": [
    {
     "data": {
      "text/plain": [
       "False"
      ]
     },
     "execution_count": 17,
     "metadata": {},
     "output_type": "execute_result"
    }
   ],
   "source": [
    "# Revisión\n",
    "makes_twenty(2,3)"
   ]
  },
  {
   "cell_type": "code",
   "execution_count": 18,
   "metadata": {
    "ExecuteTime": {
     "end_time": "2025-02-03T22:27:28.393442Z",
     "start_time": "2025-02-03T22:27:28.383415Z"
    },
    "id": "BlJKTZX9KfPA",
    "outputId": "b973ebc9-e1c8-4a27-be98-968b062356c8"
   },
   "outputs": [
    {
     "data": {
      "text/plain": [
       "True"
      ]
     },
     "execution_count": 18,
     "metadata": {},
     "output_type": "execute_result"
    }
   ],
   "source": [
    "makes_twenty(12,8)"
   ]
  },
  {
   "cell_type": "markdown",
   "metadata": {
    "id": "d3Fka2vRKfPB"
   },
   "source": [
    "# Nivel 1"
   ]
  },
  {
   "cell_type": "markdown",
   "metadata": {
    "id": "H_e_DMbnKfPB"
   },
   "source": [
    "#### MAYÚSCULAS: Escribir una función que haga mayúscula la primera y cuarta letra de una cadena de texto\n",
    "     \n",
    "    old_macdonald('macdonald') --> MacDonald\n",
    "    \n",
    "Note: `'macdonald'.capitalize()` returns `'Macdonald'`"
   ]
  },
  {
   "cell_type": "code",
   "execution_count": 31,
   "metadata": {
    "ExecuteTime": {
     "end_time": "2025-02-03T22:31:18.342417Z",
     "start_time": "2025-02-03T22:31:18.331383Z"
    },
    "id": "ZiXJrY8uKfPB"
   },
   "outputs": [],
   "source": [
    "def old_macdonald(name):\n",
    "    name = name[0].upper()+name[1:]\n",
    "    name = name[:3]+name[3].upper()+name[4:]\n",
    "    return name"
   ]
  },
  {
   "cell_type": "code",
   "execution_count": 32,
   "metadata": {
    "ExecuteTime": {
     "end_time": "2025-02-03T22:31:19.807605Z",
     "start_time": "2025-02-03T22:31:19.797579Z"
    },
    "id": "wtu_baYIKfPB",
    "outputId": "4e8b6e19-7e9e-4c6d-99df-63ec5d984748"
   },
   "outputs": [
    {
     "data": {
      "text/plain": [
       "'MacDonald'"
      ]
     },
     "execution_count": 32,
     "metadata": {},
     "output_type": "execute_result"
    }
   ],
   "source": [
    "# Check\n",
    "old_macdonald('macdonald')"
   ]
  },
  {
   "cell_type": "markdown",
   "metadata": {
    "id": "E24LlJo1KfPC"
   },
   "source": [
    "#### REVERSA: Dada una oración, retornar la misma oración pero en reversa\n",
    "\n",
    "    master_yoda('I am home') --> 'home am I'\n",
    "    master_yoda('We are ready') --> 'ready are We'\n",
    "    \n",
    "Note: Revisar método .join()\n",
    "\n",
    "    >>> \"--\".join(['a','b','c'])\n",
    "    >>> 'a--b--c'\n",
    "\n",
    "Resultado de .join():\n",
    "\n",
    "    >>> \" \".join(['Hello','world'])\n",
    "    >>> \"Hello world\""
   ]
  },
  {
   "cell_type": "code",
   "execution_count": 56,
   "metadata": {
    "ExecuteTime": {
     "end_time": "2025-02-03T22:48:29.369493Z",
     "start_time": "2025-02-03T22:48:29.364663Z"
    },
    "id": "6K4nw15nKfPC"
   },
   "outputs": [],
   "source": [
    "def master_yoda(text):\n",
    "    textoseparado = text.split()\n",
    "    textL = len(textoseparado)\n",
    "    auz = textL\n",
    "    i = 0\n",
    "    textoalreves = \"\"\n",
    "    while i < textL:\n",
    "        if textoalreves == \"\":\n",
    "            textoalreves = textoalreves + textoseparado[auz-1]\n",
    "        else :\n",
    "            textoalreves = textoalreves + \" \" + textoseparado[auz-1]\n",
    "        i = i+1\n",
    "        auz = auz-1\n",
    "    return textoalreves"
   ]
  },
  {
   "cell_type": "code",
   "execution_count": 57,
   "metadata": {
    "ExecuteTime": {
     "end_time": "2025-02-03T22:48:30.447648Z",
     "start_time": "2025-02-03T22:48:30.443586Z"
    },
    "id": "BXdDWf0BKfPC",
    "outputId": "4e2b64a8-2717-4afd-e283-ecd1fa6b6cbe"
   },
   "outputs": [
    {
     "data": {
      "text/plain": [
       "'I am home'"
      ]
     },
     "execution_count": 57,
     "metadata": {},
     "output_type": "execute_result"
    }
   ],
   "source": [
    "master_yoda(\"home am I\")"
   ]
  },
  {
   "cell_type": "code",
   "execution_count": 58,
   "metadata": {
    "ExecuteTime": {
     "end_time": "2025-02-03T22:48:32.644828Z",
     "start_time": "2025-02-03T22:48:32.638671Z"
    },
    "id": "2DqSErszKfPD",
    "outputId": "d49d92dd-11d7-4b81-c69d-c8695193eb19"
   },
   "outputs": [
    {
     "data": {
      "text/plain": [
       "'home am I'"
      ]
     },
     "execution_count": 58,
     "metadata": {},
     "output_type": "execute_result"
    }
   ],
   "source": [
    "# Revisión\n",
    "master_yoda('I am home')"
   ]
  },
  {
   "cell_type": "code",
   "execution_count": 59,
   "metadata": {
    "ExecuteTime": {
     "end_time": "2025-02-03T22:48:34.526635Z",
     "start_time": "2025-02-03T22:48:34.522046Z"
    },
    "id": "efa9vdLSKfPD",
    "outputId": "4837b3d4-249c-4803-8b64-93b3ca51fc6d"
   },
   "outputs": [
    {
     "data": {
      "text/plain": [
       "'ready are We'"
      ]
     },
     "execution_count": 59,
     "metadata": {},
     "output_type": "execute_result"
    }
   ],
   "source": [
    "# Revisión\n",
    "master_yoda('We are ready')"
   ]
  },
  {
   "cell_type": "markdown",
   "metadata": {
    "id": "9jquqRm7KfPE"
   },
   "source": [
    "# Nivel 2"
   ]
  },
  {
   "cell_type": "markdown",
   "metadata": {
    "id": "S5V3SVDGKfPE"
   },
   "source": [
    "#### PROBLEMA 33: \n",
    "\n",
    "Dada una lista de enteros, retornar True si el arreglo tinene un  3  seguido por un  3 .\n",
    "\n",
    "    has_33([1, 3, 3]) → True\n",
    "    has_33([1, 3, 1, 3]) → False\n",
    "    has_33([3, 1, 3]) → False"
   ]
  },
  {
   "cell_type": "code",
   "execution_count": 70,
   "metadata": {
    "ExecuteTime": {
     "end_time": "2025-02-03T22:54:42.923699Z",
     "start_time": "2025-02-03T22:54:42.918974Z"
    },
    "id": "9eU2-UZvKfPE"
   },
   "outputs": [],
   "source": [
    "def has_33(nums):\n",
    "    i = 0\n",
    "    j = i + 1\n",
    "    while i < len(nums):\n",
    "        if j < len(nums):\n",
    "            if nums[i] == 3 and nums[j] == 3:\n",
    "                return True\n",
    "            j = j+1\n",
    "        i = i+1\n",
    "\n",
    "    return False\n",
    "\n",
    "\n"
   ]
  },
  {
   "cell_type": "code",
   "execution_count": 71,
   "metadata": {
    "ExecuteTime": {
     "end_time": "2025-02-03T22:54:44.534221Z",
     "start_time": "2025-02-03T22:54:44.530101Z"
    },
    "id": "Yca9X7MAKfPE",
    "outputId": "42c708a5-04ed-43e3-e8ec-295f48027f0c"
   },
   "outputs": [
    {
     "data": {
      "text/plain": [
       "True"
      ]
     },
     "execution_count": 71,
     "metadata": {},
     "output_type": "execute_result"
    }
   ],
   "source": [
    "# Revisión\n",
    "has_33([1, 3, 3])"
   ]
  },
  {
   "cell_type": "code",
   "execution_count": 72,
   "metadata": {
    "ExecuteTime": {
     "end_time": "2025-02-03T22:54:46.485393Z",
     "start_time": "2025-02-03T22:54:46.479467Z"
    },
    "id": "XSw1ml9dKfPE",
    "outputId": "57e4fb93-4218-493c-992b-db6ebba0c5c1"
   },
   "outputs": [
    {
     "data": {
      "text/plain": [
       "False"
      ]
     },
     "execution_count": 72,
     "metadata": {},
     "output_type": "execute_result"
    }
   ],
   "source": [
    "# Revisión\n",
    "has_33([1, 3, 1, 3])"
   ]
  },
  {
   "cell_type": "code",
   "execution_count": 73,
   "metadata": {
    "ExecuteTime": {
     "end_time": "2025-02-03T22:54:48.462270Z",
     "start_time": "2025-02-03T22:54:48.458562Z"
    },
    "id": "ZKcJgxc5KfPF",
    "outputId": "34957a99-b52c-44cd-bc7c-b0e5158ccf23"
   },
   "outputs": [
    {
     "data": {
      "text/plain": [
       "False"
      ]
     },
     "execution_count": 73,
     "metadata": {},
     "output_type": "execute_result"
    }
   ],
   "source": [
    "# Revisión\n",
    "has_33([3, 1, 3])"
   ]
  },
  {
   "cell_type": "markdown",
   "metadata": {
    "id": "n-Vj63BpKfPF"
   },
   "source": [
    "#### REPLICADOR: Dada una cadena, devuelve una cadena donde por cada carácter en el original hay tres caracteres REPETIDOS\n",
    "    paper_doll('Hello') --> 'HHHeeellllllooo'\n",
    "    paper_doll('Mississippi') --> 'MMMiiissssssiiippppppiii'"
   ]
  },
  {
   "cell_type": "code",
   "execution_count": 143,
   "metadata": {
    "ExecuteTime": {
     "end_time": "2025-02-03T23:24:56.788007Z",
     "start_time": "2025-02-03T23:24:56.776058Z"
    },
    "id": "F6ivbyiXKfPF"
   },
   "outputs": [],
   "source": [
    "def paper_doll(text):\n",
    "    A = len(text)\n",
    "    textb = \"\"\n",
    "    for i in range(A):\n",
    "        textb = textb+text[i]+text[i]+text[i]\n",
    "    return textb\n"
   ]
  },
  {
   "cell_type": "code",
   "execution_count": 144,
   "metadata": {
    "ExecuteTime": {
     "end_time": "2025-02-03T23:24:57.752062Z",
     "start_time": "2025-02-03T23:24:57.745062Z"
    },
    "id": "h330yUbKKfPF",
    "outputId": "169efcdf-a2d5-4eaa-d0f4-295f84a4f5e9"
   },
   "outputs": [
    {
     "data": {
      "text/plain": [
       "'HHHeeellllllooo'"
      ]
     },
     "execution_count": 144,
     "metadata": {},
     "output_type": "execute_result"
    }
   ],
   "source": [
    "# Check\n",
    "paper_doll('Hello')"
   ]
  },
  {
   "cell_type": "code",
   "execution_count": 145,
   "metadata": {
    "ExecuteTime": {
     "end_time": "2025-02-03T23:25:00.053061Z",
     "start_time": "2025-02-03T23:25:00.046224Z"
    },
    "id": "sZTw8FlZKfPF",
    "outputId": "e7dc07c0-e048-4b25-ffcb-a5e4aeeebb42"
   },
   "outputs": [
    {
     "data": {
      "text/plain": [
       "'MMMiiissssssiiissssssiiippppppiii'"
      ]
     },
     "execution_count": 145,
     "metadata": {},
     "output_type": "execute_result"
    }
   ],
   "source": [
    "# Check\n",
    "paper_doll('Mississippi')"
   ]
  },
  {
   "cell_type": "markdown",
   "metadata": {
    "id": "OJfMlQRcKfPF"
   },
   "source": [
    "#### BLACKJACK: Dados tres enteros entre 1 y 11, si su suma es menor o igual a 21, devuelve su suma. Si su suma excede 21 *y* hay un once, reduce la suma total en 10. Finalmente, si la suma (incluso después del ajuste) excede 21, devuelve 'BUST'\n",
    "    blackjack(5,6,7) --> 18\n",
    "    blackjack(9,9,9) --> 'BUST'\n",
    "    blackjack(9,9,11) --> 19"
   ]
  },
  {
   "cell_type": "code",
   "execution_count": 158,
   "metadata": {
    "ExecuteTime": {
     "end_time": "2025-02-03T23:30:24.223383Z",
     "start_time": "2025-02-03T23:30:24.213534Z"
    },
    "id": "REJRcYJmKfPF"
   },
   "outputs": [],
   "source": [
    "def blackjack(a,b,c):\n",
    "    if a+b+c == 21 or a+b+c < 21:\n",
    "        return a+b+c\n",
    "    else :\n",
    "        if a+b+c > 21 :\n",
    "            if a == 11 or b == 11 or c == 11:\n",
    "                d = (a+b+c)-10\n",
    "                if d > 21:\n",
    "                    return \"BUST\"\n",
    "                else:\n",
    "                    return d\n",
    "            else:\n",
    "                return \"BUST\""
   ]
  },
  {
   "cell_type": "code",
   "execution_count": 151,
   "metadata": {
    "ExecuteTime": {
     "end_time": "2025-02-03T23:29:33.545555Z",
     "start_time": "2025-02-03T23:29:33.539737Z"
    }
   },
   "outputs": [
    {
     "data": {
      "text/plain": [
       "16"
      ]
     },
     "execution_count": 151,
     "metadata": {},
     "output_type": "execute_result"
    }
   ],
   "source": [
    "blackjack(11,10,5)"
   ]
  },
  {
   "cell_type": "code",
   "execution_count": 152,
   "metadata": {
    "ExecuteTime": {
     "end_time": "2025-02-03T23:29:39.948759Z",
     "start_time": "2025-02-03T23:29:39.943363Z"
    },
    "id": "D_sHnddYKfPF",
    "outputId": "fc7e06b6-dedc-44db-967b-d2bcae8566da"
   },
   "outputs": [
    {
     "data": {
      "text/plain": [
       "18"
      ]
     },
     "execution_count": 152,
     "metadata": {},
     "output_type": "execute_result"
    }
   ],
   "source": [
    "# Revisión\n",
    "blackjack(5,6,7)"
   ]
  },
  {
   "cell_type": "code",
   "execution_count": 156,
   "metadata": {
    "ExecuteTime": {
     "end_time": "2025-02-03T23:30:10.394036Z",
     "start_time": "2025-02-03T23:30:10.383469Z"
    },
    "id": "y0713b36KfPF",
    "outputId": "278287b5-0843-4056-da0b-ed5d8b382b7d"
   },
   "outputs": [
    {
     "data": {
      "text/plain": [
       "'BUST'"
      ]
     },
     "execution_count": 156,
     "metadata": {},
     "output_type": "execute_result"
    }
   ],
   "source": [
    "# Revisión\n",
    "blackjack(9,9,9)"
   ]
  },
  {
   "cell_type": "code",
   "execution_count": 159,
   "metadata": {
    "ExecuteTime": {
     "end_time": "2025-02-03T23:30:27.164327Z",
     "start_time": "2025-02-03T23:30:27.155694Z"
    },
    "id": "6eijyrH-KfPG",
    "outputId": "68421178-7dc7-439f-e433-ce567b999dd6"
   },
   "outputs": [
    {
     "data": {
      "text/plain": [
       "19"
      ]
     },
     "execution_count": 159,
     "metadata": {},
     "output_type": "execute_result"
    }
   ],
   "source": [
    "# Revisión\n",
    "blackjack(9,9,11)"
   ]
  },
  {
   "cell_type": "markdown",
   "metadata": {
    "id": "6S22_l6xKfPI"
   },
   "source": [
    "## Suerte!"
   ]
  }
 ],
 "metadata": {
  "colab": {
   "name": "Practico_Bono_1(E).ipynb",
   "provenance": []
  },
  "kernelspec": {
   "display_name": "Python 3 (ipykernel)",
   "language": "python",
   "name": "python3"
  },
  "language_info": {
   "codemirror_mode": {
    "name": "ipython",
    "version": 3
   },
   "file_extension": ".py",
   "mimetype": "text/x-python",
   "name": "python",
   "nbconvert_exporter": "python",
   "pygments_lexer": "ipython3",
   "version": "3.10.4"
  }
 },
 "nbformat": 4,
 "nbformat_minor": 0
}
